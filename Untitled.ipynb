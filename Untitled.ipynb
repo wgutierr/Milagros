{
 "cells": [
  {
   "cell_type": "code",
   "execution_count": 3,
   "id": "062d3abe-20db-4000-9be8-ccd397eec038",
   "metadata": {},
   "outputs": [],
   "source": [
    "import skforecast.recursive\n"
   ]
  },
  {
   "cell_type": "code",
   "execution_count": 4,
   "id": "a3fdbc3a-8651-47ec-9fbe-6517cd33d4c4",
   "metadata": {},
   "outputs": [
    {
     "data": {
      "text/plain": [
       "['ForecasterEquivalentDate',\n",
       " 'ForecasterRecursive',\n",
       " 'ForecasterRecursiveMultiSeries',\n",
       " 'ForecasterSarimax',\n",
       " '__builtins__',\n",
       " '__cached__',\n",
       " '__doc__',\n",
       " '__file__',\n",
       " '__loader__',\n",
       " '__name__',\n",
       " '__package__',\n",
       " '__path__',\n",
       " '__spec__',\n",
       " '_forecaster_equivalent_date',\n",
       " '_forecaster_recursive',\n",
       " '_forecaster_recursive_multiseries',\n",
       " '_forecaster_sarimax']"
      ]
     },
     "execution_count": 4,
     "metadata": {},
     "output_type": "execute_result"
    }
   ],
   "source": [
    "dir(skforecast.recursive)"
   ]
  },
  {
   "cell_type": "code",
   "execution_count": null,
   "id": "32434537-8458-4f3b-afb3-8f160572f256",
   "metadata": {},
   "outputs": [],
   "source": []
  }
 ],
 "metadata": {
  "kernelspec": {
   "display_name": "Python 3 (ipykernel)",
   "language": "python",
   "name": "python3"
  },
  "language_info": {
   "codemirror_mode": {
    "name": "ipython",
    "version": 3
   },
   "file_extension": ".py",
   "mimetype": "text/x-python",
   "name": "python",
   "nbconvert_exporter": "python",
   "pygments_lexer": "ipython3",
   "version": "3.11.9"
  }
 },
 "nbformat": 4,
 "nbformat_minor": 5
}
